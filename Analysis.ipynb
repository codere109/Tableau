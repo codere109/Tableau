{
 "cells": [
  {
   "cell_type": "markdown",
   "id": "92927de0",
   "metadata": {},
   "source": [
    "# Tableau Analysis"
   ]
  },
  {
   "cell_type": "markdown",
   "id": "70a258b7",
   "metadata": {},
   "source": [
    "In my citibike presentation I've found that most of the data to be able to create a good visual story is limited to only a few columns. However what I was able to create was based off the birth year and I came across an interesting find. More bookings came from people born in the years of 1970-1990. Which I thought was kinda cool, because basically early 30s and early 50s are the most prominent bookers of citibike."
   ]
  }
 ],
 "metadata": {
  "kernelspec": {
   "display_name": "PythonData38",
   "language": "python",
   "name": "pythondata38"
  },
  "language_info": {
   "codemirror_mode": {
    "name": "ipython",
    "version": 3
   },
   "file_extension": ".py",
   "mimetype": "text/x-python",
   "name": "python",
   "nbconvert_exporter": "python",
   "pygments_lexer": "ipython3",
   "version": "3.9.12"
  }
 },
 "nbformat": 4,
 "nbformat_minor": 5
}
